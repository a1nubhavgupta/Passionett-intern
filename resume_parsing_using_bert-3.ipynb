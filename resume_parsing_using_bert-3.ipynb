{
 "cells": [
  {
   "cell_type": "code",
   "execution_count": 1,
   "id": "504586c7",
   "metadata": {},
   "outputs": [
    {
     "name": "stdout",
     "output_type": "stream",
     "text": [
      "Siddak Marwaha\n",
      "East Lansing, MI • (515) 708-8139 • marwaha3@msu.edu • http://linkedin.com/in/siddak\n",
      "EDUCATION\n",
      "Michigan State University, College of Natural Science (Honor’s College), East Lansing, MI Expected May 2025\n",
      "Bachelor of Science, Double Major in Data Science and Astrophysics Cumulative GPA: 3.95\n",
      "RELEVANT EXPERIENCE\n",
      "PeachPay Ames, IA\n",
      "Data Science Intern May 2023 – Aug 2023\n",
      "• Spearheaded data-related operations as the exclusive Data Science Intern, implemented Python scripts that rectified payment\n",
      "glitches and preserved over $30,000 in revenue\n",
      "• Orchestrated the development of an internal dashboard website using D3, JavaScript, and MongoDB, enhanced data\n",
      "monitoring and query efficiency\n",
      "• Proficiently managed MongoDB Atlas, employed D3, JavaScript, and MongoDB Query Language to create insightful\n",
      "visualizations, contributed to a 50% increase (>$300,000) in total monthly volume\n",
      "Computational Math, Science and Engineering Dept., Michigan State University East Lansing, MI\n",
      "Undergraduate Teaching Assistant Jan 2024 – Present\n",
      "• Conducted comprehensive office hours to assist over 350 students in the Computational Linear Algebra course with concepts\n",
      "like Gauss-Jordan Elimination, Matrices, Singular Value Decomposition, etc. resulting in improved academic performance\n",
      "• Facilitated student learning during in-class sessions of 30+ students and assisted with grading of assignments\n",
      "Passionett East Lansing, MI\n",
      "Co-Founder Oct 2023 – Present\n",
      "• Pioneered an innovative online platform for mentorship and networking, set to launch soon\n",
      "Physics and Astronomy Dept., Michigan State University East Lansing, MI\n",
      "Undergraduate Teaching Assistant Aug 2023 – Dec 2023\n",
      "• Conducted comprehensive office hours and one-on-one sessions to assist over 500 students in Physics 2 with concepts like\n",
      "electricity, magnetism, optics, etc., resulting in improved academic performance on quizzes and exams\n",
      "• Actively participated in exam proctoring, ensured a fair testing environment\n",
      "Student Life & Engagement, Michigan State University East Lansing, MI\n",
      "Resident Assistant, Holden Hall May 2023 – Present\n",
      "• Promoted inclusive living community using educational campaigns and events rooted in RIDE (Reboot, Interrogate, Dream,\n",
      "and Enact) and RLM (Residential Learning Model) methods\n",
      "• Leveraged interpersonal and public speaking skills to successfully educate 75+ student residents on critical campus resources\n",
      "like academic advising, counseling services, and financial aid for academic excellence, personal growth, and mental health\n",
      "Computational Astrophysics, Michigan State University East Lansing, MI\n",
      "Research Assistant Aug 2022 – Present\n",
      "• Analyzed datasets of simulated progenitor explosions to extract meaningful insights, and identify trends in approximately\n",
      "1000 data points with varied attributes such as time, solar mass, and elemental core masses\n",
      "• Utilized Python libraries such as SciKit-learn, Keras, and TensorFlow to develop and refine a Neural Network model to\n",
      "predict the outcomes of progenitor explosions, achieved an accuracy range of 85-95% and uncertainty of 2-6% depending on\n",
      "the attributes used\n",
      "PROJECT EXPERIENCE\n",
      "Institute for Cyber Enabled Research, Michigan State University East Lansing, MI\n",
      "Intern Dec 2022 – Apr 2023\n",
      "• Led a collaborative TensorFlow project with Dr. Nanye Long at ICER, conducted extensive experimentation with\n",
      "TensorFlow and facilitated streamlined use of TensorFlow and Anaconda in a high-performance computing environment\n",
      "QSIDE Datathon4Justice East Lansing, MI\n",
      "Developed an Algorithm to Catch Racial Bias Nov 2022\n",
      "• Represented the MSU team nationwide and led the group to construct an algorithm to use the Durham (NC) Police Arrests\n",
      "dataset to figure out which police officers seemed to be demonstrating a high racial bias\n",
      "SKILLS\n",
      "Languages: Python, R, C++, JavaScript, HTML5, CSS3, Mongo Query Language, SQL (MySQL)\n",
      "Libraries: Pandas, NumPy, Sympy, Matplotlib, SciKit-learn, Keras, TensorFlow, Seaborn, SciPy, Astropy, dplyr, ggplot2, tidyverse,\n",
      "infer, shiny, D3.js\n",
      "General: PowerBI, Tableau, Data Analytics, Machine Learning, Neural Networks, Business Analytics, git, Docker, Mathematics\n"
     ]
    }
   ],
   "source": [
    "import pdfplumber\n",
    "with pdfplumber.open(\"SiddakMResume2.pdf\") as pdf:\n",
    "    first_page = pdf.pages[0]\n",
    "    first_page_text = first_page.extract_text()\n",
    "    first_character = first_page_text[0] if first_page_text else None\n",
    "    print(first_page_text)"
   ]
  },
  {
   "cell_type": "code",
   "execution_count": 2,
   "id": "7b75d728",
   "metadata": {},
   "outputs": [
    {
     "name": "stdout",
     "output_type": "stream",
     "text": [
      "EXPERIENCE\n",
      "PeachPay Ames, IA\n",
      "Data Science Intern May 2023 – Aug 2023\n",
      "• Spearheaded data-related operations as the exclusive Data Science Intern, implemented Python scripts that rectified payment\n",
      "glitches and preserved over $30,000 in revenue\n",
      "• Orchestrated the development of an internal dashboard website using D3, JavaScript, and MongoDB, enhanced data\n",
      "monitoring and query efficiency\n",
      "• Proficiently managed MongoDB Atlas, employed D3, JavaScript, and MongoDB Query Language to create insightful\n",
      "visualizations, contributed to a 50% increase (>$300,000) in total monthly volume\n",
      "Computational Math, Science and Engineering Dept., Michigan State University East Lansing, MI\n",
      "Undergraduate Teaching Assistant Jan 2024 – Present\n",
      "• Conducted comprehensive office hours to assist over 350 students in the Computational Linear Algebra course with concepts\n",
      "like Gauss-Jordan Elimination, Matrices, Singular Value Decomposition, etc. resulting in improved academic performance\n",
      "• Facilitated student learning during in-class sessions of 30+ students and assisted with grading of assignments\n",
      "Passionett East Lansing, MI\n",
      "Co-Founder Oct 2023 – Present\n",
      "• Pioneered an innovative online platform for mentorship and networking, set to launch soon\n",
      "Physics and Astronomy Dept., Michigan State University East Lansing, MI\n",
      "Undergraduate Teaching Assistant Aug 2023 – Dec 2023\n",
      "• Conducted comprehensive office hours and one-on-one sessions to assist over 500 students in Physics 2 with concepts like\n",
      "electricity, magnetism, optics, etc., resulting in improved academic performance on quizzes and exams\n",
      "• Actively participated in exam proctoring, ensured a fair testing environment\n",
      "Student Life & Engagement, Michigan State University East Lansing, MI\n",
      "Resident Assistant, Holden Hall May 2023 – Present\n",
      "• Promoted inclusive living community using educational campaigns and events rooted in RIDE (Reboot, Interrogate, Dream,\n",
      "and Enact) and RLM (Residential Learning Model) methods\n",
      "• Leveraged interpersonal and public speaking skills to successfully educate 75+ student residents on critical campus resources\n",
      "like academic advising, counseling services, and financial aid for academic excellence, personal growth, and mental health\n",
      "Computational Astrophysics, Michigan State University East Lansing, MI\n",
      "Research Assistant Aug 2022 – Present\n",
      "• Analyzed datasets of simulated progenitor explosions to extract meaningful insights, and identify trends in approximately\n",
      "1000 data points with varied attributes such as time, solar mass, and elemental core masses\n",
      "• Utilized Python libraries such as SciKit-learn, Keras, and TensorFlow to develop and refine a Neural Network model to\n",
      "predict the outcomes of progenitor explosions, achieved an accuracy range of 85-95% and uncertainty of 2-6% depending on\n",
      "the attributes used\n",
      "\n"
     ]
    }
   ],
   "source": [
    "import re\n",
    "import pdfplumber\n",
    "\n",
    "with pdfplumber.open(\"SiddakMResume2.pdf\") as pdf:\n",
    "    first_page = pdf.pages[0]\n",
    "    first_page_text = first_page.extract_text()\n",
    "\n",
    "    # Define the starting and ending words\n",
    "    start_word = \"EXPERIENCE\"\n",
    "    end_word = \"PROJECT\"\n",
    "    \n",
    "    # Find the indices of the starting and ending words\n",
    "    start_index = first_page_text.find(start_word)\n",
    "    end_index = first_page_text.find(end_word)\n",
    "\n",
    "    if start_index != -1 and end_index != -1:\n",
    "        # Extract the text between the starting and ending words\n",
    "        extracted_text = first_page_text[start_index:end_index]\n",
    "\n",
    "        # Print the extracted text\n",
    "        print(extracted_text)\n",
    "    else:\n",
    "        print(\"Start or end word not found.\")"
   ]
  },
  {
   "cell_type": "code",
   "execution_count": 3,
   "id": "86829f4f",
   "metadata": {},
   "outputs": [
    {
     "name": "stdout",
     "output_type": "stream",
     "text": [
      "['EXPERIENCE', 'PeachPay Ames, IA', 'Data Science Intern May 2023 – Aug 2023', '• Spearheaded data-related operations as the exclusive Data Science Intern, implemented Python scripts that rectified payment', 'glitches and preserved over $30,000 in revenue', '• Orchestrated the development of an internal dashboard website using D3, JavaScript, and MongoDB, enhanced data', 'monitoring and query efficiency', '• Proficiently managed MongoDB Atlas, employed D3, JavaScript, and MongoDB Query Language to create insightful', 'visualizations, contributed to a 50% increase (>$300,000) in total monthly volume', 'Computational Math, Science and Engineering Dept., Michigan State University East Lansing, MI', 'Undergraduate Teaching Assistant Jan 2024 – Present', '• Conducted comprehensive office hours to assist over 350 students in the Computational Linear Algebra course with concepts', 'like Gauss-Jordan Elimination, Matrices, Singular Value Decomposition, etc. resulting in improved academic performance', '• Facilitated student learning during in-class sessions of 30+ students and assisted with grading of assignments', 'Passionett East Lansing, MI', 'Co-Founder Oct 2023 – Present', '• Pioneered an innovative online platform for mentorship and networking, set to launch soon', 'Physics and Astronomy Dept., Michigan State University East Lansing, MI', 'Undergraduate Teaching Assistant Aug 2023 – Dec 2023', '• Conducted comprehensive office hours and one-on-one sessions to assist over 500 students in Physics 2 with concepts like', 'electricity, magnetism, optics, etc., resulting in improved academic performance on quizzes and exams', '• Actively participated in exam proctoring, ensured a fair testing environment', 'Student Life & Engagement, Michigan State University East Lansing, MI', 'Resident Assistant, Holden Hall May 2023 – Present', '• Promoted inclusive living community using educational campaigns and events rooted in RIDE (Reboot, Interrogate, Dream,', 'and Enact) and RLM (Residential Learning Model) methods', '• Leveraged interpersonal and public speaking skills to successfully educate 75+ student residents on critical campus resources', 'like academic advising, counseling services, and financial aid for academic excellence, personal growth, and mental health', 'Computational Astrophysics, Michigan State University East Lansing, MI', 'Research Assistant Aug 2022 – Present', '• Analyzed datasets of simulated progenitor explosions to extract meaningful insights, and identify trends in approximately', '1000 data points with varied attributes such as time, solar mass, and elemental core masses', '• Utilized Python libraries such as SciKit-learn, Keras, and TensorFlow to develop and refine a Neural Network model to', 'predict the outcomes of progenitor explosions, achieved an accuracy range of 85-95% and uncertainty of 2-6% depending on', 'the attributes used']\n"
     ]
    }
   ],
   "source": [
    "lines = [line.strip() for line in extracted_text.split('\\n') if line.strip()]\n",
    "\n",
    "# Print the array of lines\n",
    "print(lines)"
   ]
  },
  {
   "cell_type": "code",
   "execution_count": 4,
   "id": "7201e059",
   "metadata": {},
   "outputs": [
    {
     "data": {
      "text/plain": [
       "0                    Reading Comprehension\n",
       "1                    Reading Comprehension\n",
       "2                         Active Listening\n",
       "3                         Active Listening\n",
       "4                                  Writing\n",
       "                       ...                \n",
       "61105    Management of Financial Resources\n",
       "61106     Management of Material Resources\n",
       "61107     Management of Material Resources\n",
       "61108    Management of Personnel Resources\n",
       "61109    Management of Personnel Resources\n",
       "Name: Element Name, Length: 61110, dtype: object"
      ]
     },
     "execution_count": 4,
     "metadata": {},
     "output_type": "execute_result"
    }
   ],
   "source": [
    "import pandas as pd\n",
    "import numpy as np\n",
    "df = pd.read_csv(\"Skills 2.csv\")\n",
    "df1 = df[\"Element Name\"]\n",
    "df1"
   ]
  },
  {
   "cell_type": "code",
   "execution_count": 5,
   "id": "887976ff",
   "metadata": {},
   "outputs": [],
   "source": [
    "model_name = 'bert-base-nli-stsb-mean-tokens'"
   ]
  },
  {
   "cell_type": "code",
   "execution_count": null,
   "id": "8dc5dd33",
   "metadata": {},
   "outputs": [],
   "source": [
    "from sentence_transformers import SentenceTransformer, util\n",
    "max_similarity = -1 \n",
    "max_i = -1\n",
    "max_j = -1\n",
    "for i in range(len(lines)):\n",
    "    x = lines[i]\n",
    "    for j in range(len(df1)):\n",
    "        y = df1[j]\n",
    "        \n",
    "\n",
    "        model = SentenceTransformer(model_name)\n",
    "\n",
    "        # Tokenize and encode sentences\n",
    "        embeddings = model.encode([x, y], convert_to_tensor=True)\n",
    "\n",
    "        \n",
    "        cos_sim = util.pytorch_cos_sim(embeddings[0], embeddings[1])\n",
    "        if cos_sim.item() > max_similarity:\n",
    "            max_similarity = cos_sim.item()\n",
    "            max_i = i\n",
    "            max_j = j\n",
    "\n",
    "print(\"Maximum cosine similarity:\", max_similarity)\n",
    "print(\"Indices (i):\", lines[max_i])\n",
    "#df1[max_j]\n",
    "print(\"Indices (j):\",df1[max_j])       "
   ]
  },
  {
   "cell_type": "code",
   "execution_count": null,
   "id": "89b277d7",
   "metadata": {},
   "outputs": [],
   "source": []
  }
 ],
 "metadata": {
  "kernelspec": {
   "display_name": "Python 3 (ipykernel)",
   "language": "python",
   "name": "python3"
  },
  "language_info": {
   "codemirror_mode": {
    "name": "ipython",
    "version": 3
   },
   "file_extension": ".py",
   "mimetype": "text/x-python",
   "name": "python",
   "nbconvert_exporter": "python",
   "pygments_lexer": "ipython3",
   "version": "3.11.5"
  }
 },
 "nbformat": 4,
 "nbformat_minor": 5
}
