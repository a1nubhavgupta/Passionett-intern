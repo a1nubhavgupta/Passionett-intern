{
 "cells": [
  {
   "cell_type": "code",
   "execution_count": 1,
   "id": "8e4f9a3b",
   "metadata": {},
   "outputs": [
    {
     "name": "stdout",
     "output_type": "stream",
     "text": [
      "{\"message\":\"Resume processed correctly.\",\"resume_extracted_info\":{\"education\":[{\"degree\":\"Diploma\",\"majors\":\"User Experience design\",\"gpa\":null},{\"degree\":\"BFA\",\"majors\":\"Illustration\",\"gpa\":null}],\"work_exp\":[{\"job_title\":\"UX/UI Designer Intern\",\"start_date\":\"NOV 2023\",\"end_data\":\"Present\",\"description\":\"Collaborated cross functionally with the design and development team to deliver a seamless user centered design for the Sponsor a Pet donation website.\"},{\"job_title\":\"Designer\",\"start_date\":\"NOV 2021\",\"end_data\":\"FEB 2023\",\"description\":\"Developed high impact line plans with top selling designs for major retailers such as Kohl’s and Dillards to be sold nationwide.\"},{\"job_title\":\"Freelance Designer & Illustrator\",\"start_date\":\"AUG 2018\",\"end_data\":\"Present\",\"description\":\"Crafted detailed Illustrations for two 30 page children’s books delivering a total of 200 plus illustrations within creative guidelines.\"}],\"skills\":{\"technical_skills\":[\"UX/UI Design\",\"Illustration\",\"Graphic Design\",\"Fashion Design\"],\"soft_skills\":[\"Team Collaboration\",\"User Experience Research\",\"Customer Feedback Analysis\",\"Brand Recognition\"]},\"additional_info\":\"A multimedia designer with a total of 5 years experience with a focus in fashion, graphic, book illustration and UX/UI Design. Accomplished in illustrating 3 children’s books and designing branded fashion lines for major retailers.\"}}\n",
      "{\"message\":\"Resume processed correctly.\",\"resume_extracted_info\":{\"education\":[{\"degree\":\"UX Design Immersive Certificate\",\"majors\":\"User Experience Design/Research\",\"gpa\":null},{\"degree\":\"Juris Doctor (JD)\",\"majors\":\"Law\",\"gpa\":null},{\"degree\":\"Bachelor of Arts\",\"majors\":\"Double major: English & Russian Language\",\"gpa\":null}],\"work_exp\":[{\"job_title\":\"Product Designer\",\"start_date\":\"December 2022\",\"end_data\":\"Current\",\"description\":\"Collaborating with senior/intern developers to create Vibe Report, an open-source web portal for content-rich check-ins/updates that facilitates asynchronous team cohesion and improves managerial insight into team morale, productivity issues, and more\"},{\"job_title\":\"UX Designer\",\"start_date\":\"April 2023\",\"end_data\":\"August 2023\",\"description\":\"Joined a team of 15+ developers, designers, and data scientists for The Opportunity Project, led by the US Census Bureau, the US Department of Commerce, and the FDA for the initiative of increasing rates of at-home COVID-19 test self-reporting\"},{\"job_title\":\"UX Designer\",\"start_date\":\"August 2022\",\"end_data\":\"November 2022\",\"description\":\"Contracted to design a proposed revision to the onboarding portion of Courtroom5, an online tool that helps users prepare for common civil legal matters\"},{\"job_title\":\"Operations Supervisor\",\"start_date\":\"August 2021\",\"end_data\":\"June 2022\",\"description\":\"Oversaw daily field operations for 50% of the Los Angeles market, supervising and supporting a team of Operations Associates\"},{\"job_title\":\"Rule of Law Intern\",\"start_date\":\"April 2017\",\"end_data\":\"August 2017\",\"description\":\"Interned with the Rule of Law component of East-West Management Institute, our primary initiative being the founding of several Free Legal Aid Clinics throughout Kyrgyzstan\"},{\"job_title\":\"Writing Consultant\",\"start_date\":\"January 2012\",\"end_data\":\"May 2015\",\"description\":\"Consulted one-on-one with graduates and undergraduates to help refine their academic, technical, and creative writing skills\"}],\"skills\":{\"technical_skills\":[\"User-Centered Design\",\"UX Research\",\"Figma\",\"Wireframing\",\"Sketching/Ideation\",\"Advanced Prototyping\",\"Animation Tools\"],\"soft_skills\":[\"Presentation Skills\"]},\"additional_info\":\"Successful Product/UX Designer well-versed in current industry demands who coordinates projects effectively at all stages by managing research, creative processes, and design refinements. Understands customers' use and serviceability needs, balancing these priorities with internal business goals. Background experience in startups, writing, and law.\"}}\n",
      "{\"message\":\"Sending sample output\",\"resume_extracted_info\":{\"education\":[{\"degree\":\"Master of Science in Data Science\",\"majors\":\"Data Science\",\"gpa\":4.0},{\"degree\":\"Bachelor of Technology in Civil Engineering\",\"majors\":\"Civil Engineering\",\"gpa\":3.26}],\"work_exp\":[{\"job_title\":\"AI Research Associate Intern\",\"description\":\"Developed a financial question answering system using Large Language Models (LLM) on FinQA dataset, designed a negative sampling method based on clustering.\"},{\"job_title\":\"NLP Engineer\",\"description\":\"Developed algorithms to extract and relate medications and their attributes like dosage, route, frequency, duration, etc. from Electronic Health Records data with +90% F1 Score.\"},{\"job_title\":\"Data Scientist\",\"description\":\"Boosted the Named Entity Recognition model for biomedical entities by an average of 5% F1 Score per entity and improved the multi-label Relation Classification model by 4.2% Micro F1 Score.\"}],\"skills\":{\"technical_skills\":[\"Programming\",\"Data Engineering\",\"Natural Language Processing\",\"Machine Learning\",\"Deep Learning\",\"Statistical Analysis\"],\"soft_skills\":[\"Problem Solving\",\"Communication\",\"Teamwork\",\"Critical Thinking\",\"Adaptability\",\"Leadership\"]},\"additional_info\":\"Strong expertise in Data Science with a focus on Natural Language Processing and Machine Learning. Proven track record of improving models' performance and developing innovative solutions. Skilled in various technical tools and languages such as Python, R, SQL, PyTorch, TensorFlow, and more. Exceptional communication and problem-solving abilities.\"}}\n",
      "{\"message\":\"Resume processed correctly.\",\"resume_extracted_info\":{\"education\":[{\"degree\":\"M sc. International Business Management\",\"majors\":\"Business Management\",\"gpa\":null},{\"degree\":\"B sc. Banking & Finance\",\"majors\":\"Banking & Finance\",\"gpa\":null},{\"degree\":\"Product Design Bootcamp\",\"majors\":\"Interaction Design Foundation\",\"gpa\":null}],\"work_exp\":[{\"job_title\":\"UX Designer\",\"start_date\":\"May, 2022\",\"end_data\":\"Currently\",\"description\":\"Collaborated with product manager, developers, and designers to incorporate research brainstorm, provide design solutions, and get fully functional prototypes ready for development.\"},{\"job_title\":\"Product Designer\",\"start_date\":\"Aug, 2019\",\"end_data\":\"Feb, 2022\",\"description\":\"Crafted a design system to support the growth of the E-commerce site. Crafted mobile-first checkout experience for shopmata company online store, reducing the checkout time from 3.12 to 1.21 minutes. Conducted user research on buyer motivations and how to improve their buying experience across different touch points.\"},{\"job_title\":\"Product Designer\",\"start_date\":\"Oct, 2018\",\"end_data\":\"April, 2019\",\"description\":\"Built design system artifacts and processes for use across product teams. Integrated user research (qualitative and quantitative) into project process. Created user stories, user journeys, and wireframes to help define the UX of each of the company's products. Provided feedback & mentorship to a team of 3 UX designers in design thinking framework, lean service creation framework, user research methodologies, user experience design, and design system.\"},{\"job_title\":\"Freelance UX Designer\",\"start_date\":null,\"end_data\":null,\"description\":\"Conducted user research and created personas, journey maps, wireframes for Retrofete product marketing page and web application. Increased conversion rate by 82% in 10 months and decreased bounce rate by 55%. Uncovered customer insights running experiments using A/B Testing, card sorting, and task-based usability testing which resulted in increased interaction with compare tool feature by 28.73% and sort tools feature by 62%. Contributed to the internal design system by creating components and documentation for cost-effectiveness and increased cross-functional collaboration. Revamped the website's navigation systems by collaborating with user research to conduct usability testing and tree-testing with 60 participants.\"}],\"skills\":{\"technical_skills\":[\"UX Strategy\",\"User Flow\",\"Concept Sketches\",\"Experience Mapping\",\"Wireframes & Mockups\",\"Prototypes\",\"Design Systems\",\"UX Workshops\",\"Co-creation\",\"Design Presentation\",\"Design Operation\",\"Information Architecture\",\"Accessibility & UX Sustainability\",\"Usability Testing\",\"Persona Hypothesis\",\"Tree Testing\",\"Focus Groups\",\"User Interviews\",\"Competitor & Benchmark Analysis\",\"Contextual Inquiry\",\"Co-creation\",\"Market Study\"],\"soft_skills\":[\"Creative Problem Solving\",\"User Research\",\"Design Analysis\",\"Development\",\"Product/Project Management\"]},\"additional_info\":\"Experienced Product Designer with a strong focus on strategic design operations, innovative vision, accessibility, sustainability, co-creation, and cross-functional collaboration skills. Known for driving empowerment and achieving goals for individuals, products, and organizations through design excellence.\"}}\n"
     ]
    },
    {
     "name": "stdout",
     "output_type": "stream",
     "text": [
      "{\"message\":\"Resume processed correctly.\",\"resume_extracted_info\":{\"education\":[{\"degree\":\"Bachelor of Science\",\"majors\":\"Computer Science\",\"gpa\":null},{\"degree\":\"Bachelor of Science\",\"majors\":\"Web Design/Development\",\"gpa\":null}],\"work_exp\":[{\"job_title\":\"Graphic Designer\",\"start_date\":\"2020\",\"end_data\":\"2022\",\"description\":\"Graphic Design\"},{\"job_title\":\"Jr Graphic Designer\",\"start_date\":\"2019\",\"end_data\":\"2020\",\"description\":\"Conducted research and developed purposeful UX/UI designs for company website.\"},{\"job_title\":\"Design Volunteer\",\"start_date\":\"2020\",\"end_data\":\"2022\",\"description\":\"Effectively communicated with manager to develop and deliver compelling designs such as flyers, banners, logos, and infographics.\"}],\"skills\":{\"technical_skills\":[\"Graphic Design\",\"UX/UI Design\",\"Web Design\",\"HTML/CSS\"],\"soft_skills\":[\"Problem Solving\",\"Leadership\",\"Management\",\"Communication\"]},\"additional_info\":\"Experienced designer with strong skills in graphic design, UX/UI design, and web design. Proficient in Adobe Creative Suite. Demonstrated leadership, problem-solving, and communication skills in managing junior designers and improving workflow. Passionate about learning and applying knowledge to UX/UI or computer science roles.\"}}\n",
      "{\"message\":\"Resume processed correctly.\",\"resume_extracted_info\":{\"education\":[{\"degree\":\"Bachelor of Science\",\"majors\":\"Computer Science\",\"gpa\":3.8}],\"work_exp\":[{\"job_title\":\"Chapter Lead and Student Innovator\",\"start_date\":\"October 2023\",\"end_data\":\"Present\",\"description\":\"Selected among 16,000 applicants to be a part of an exclusive cohort of 200 student innovators by Google Cloud. Kickstarted MSU’s GDSC chapter and hosted technical workshops on Google Developer tools.\"},{\"job_title\":\"Co-Founder and CTO\",\"start_date\":\"October 2023\",\"end_data\":\"Present\",\"description\":\"Spearheaded a team of developers to develop an AI-based networking web app connecting mentors to mentees using various technologies.\"},{\"job_title\":\"Technical Lead\",\"start_date\":\"September 2023\",\"end_data\":\"Present\",\"description\":\"Refactored the club’s website used by 1200+ members through MongoDB, Express.js, React.js, and Node.js by leading a technical team of web developers.\"},{\"job_title\":\"Data Science Intern\",\"start_date\":\"June 2023\",\"end_data\":\"August 2023\",\"description\":\"Automated the generation of Quarterly Reports using Power BI, Amazon S3, Amazon Athena, and Datadog, enhancing work efficiency by 60%.\"}],\"skills\":{\"technical_skills\":[\"Programming\",\"Web Development\",\"Data Analysis\"],\"soft_skills\":[\"Leadership\",\"Team Collaboration\",\"Problem-solving\"]},\"additional_info\":\"Strong points include leadership and technical proficiency in programming, web development, and data analysis. Experience in spearheading projects and technical teams, as well as strong problem-solving skills.\"}}\n",
      "{\"message\":\"Resume processed correctly.\",\"resume_extracted_info\":{\"education\":[{\"degree\":\"Google UX/UI Design Professional Certificate\",\"majors\":\"Industrial and Product Design\",\"gpa\":null},{\"degree\":\"Bachelor of Arts in Industrial and Product Design\",\"majors\":\"Not specified\",\"gpa\":null}],\"work_exp\":[{\"job_title\":\"UX/UI Designer\",\"start_date\":\"12/2022\",\"end_data\":\"Current\",\"description\":\"Conducted user and trend research to inform the design process, developed wireframes, spearheaded prototyping phase, provided UX design critiques for a tech startup, and translated concepts into visually engaging interfaces using Figma and Adobe XD.\"},{\"job_title\":\"Product Designer\",\"start_date\":\"06/2022\",\"end_data\":\"Current\",\"description\":\"Presented design concepts, collaborated with branding teams, led communication with vendors, applied user-centered design approach, and demonstrated project management skills at Kohl's.\"},{\"job_title\":\"Assistant Designer\",\"start_date\":\"06/2020\",\"end_data\":\"05/2022\",\"description\":\"Adapted intern design program, designed products, launched a program focused on sensory-friendly products for kids, acted as an intern coach, and ensured seamless integration of user experience principles into product design at Food Network | Kohl's.\"}],\"skills\":{\"technical_skills\":[\"Rapid Ideation\",\"Human-Centered Design\",\"Interaction Design\",\"Physical and Digital Prototyping\",\"Wireframing\",\"Research Brainstorm\",\"User Testing\",\"Collaborating\",\"Design Systems\",\"Poster Design\",\"Branding\",\"Iconography\",\"Color Theory\"],\"soft_skills\":[\"User Experience\",\"Responsive Design\",\"User Flows\",\"User Interviews\",\"Information Architecture\",\"Journey Mapping\",\"Quantitative Analysis\",\"Competitor Analysis\",\"Design Trends\",\"Typography\",\"Web Design\",\"3D Printing\"]},\"additional_info\":\"Strong points include being proficient in Figma and Adobe CC, excelling in translating concepts into intuitive digital interfaces, experienced in user research and creative problem-solving, adept at aligning designs with business objectives, skilled in user research, wireframing, and visual design, transitioning to UX design with continuous learning, offering a seasoned approach, and having comprehensive understanding of design processes. Eager to contribute a unique blend of product design expertise and evolving UX skills to a dynamic design team.\"}}\n",
      "{\"message\":\"Resume processed correctly.\",\"resume_extracted_info\":{\"education\":[{\"degree\":\"Bachelor of Science in Economics\",\"majors\":\"Data Science, Entrepreneurship, and Innovation\",\"gpa\":3.96}],\"work_exp\":[{\"job_title\":\"Financial Planning & Analysis Intern\",\"start_date\":\"May 2024\",\"end_data\":null,\"description\":\"Incoming Financial Planning & Analysis Intern at Aptiv, Troy, MI\"},{\"job_title\":\"Founder / CEO\",\"start_date\":\"September 2023\",\"end_data\":\"Present\",\"description\":\"Founder / CEO at Passionett Advisors Pvt Ltd, East Lansing\"},{\"job_title\":\"Undergraduate Learning Assistant\",\"start_date\":\"August 2023\",\"end_data\":\"Present\",\"description\":\"Undergraduate Learning Assistant at Mathematics Department, Michigan State University, East Lansing, MI\"},{\"job_title\":\"Financial Research Analyst Intern\",\"start_date\":\"June 2023\",\"end_data\":\"July 2023\",\"description\":\"Financial Research Analyst Intern at Center of Advanced Financial Research and Learning, Reserve Bank of India, Mumbai, India\"},{\"job_title\":\"Research Assistant\",\"start_date\":\"May 2023\",\"end_data\":\"July 2023\",\"description\":\"Research Assistant at Provost’s Undergraduate Research Initiative, College of Social Science, East Lansing, MI\"},{\"job_title\":\"Resident Assistant\",\"start_date\":\"May 2023\",\"end_data\":\"Present\",\"description\":\"Resident Assistant at Residence Education and Housing Services Department, East Lansing, MI\"},{\"job_title\":\"President\",\"start_date\":\"August 2022\",\"end_data\":\"Present\",\"description\":\"President at Undergraduate International Indian Student Association, East Lansing, MI\"}],\"skills\":{\"technical_skills\":[\"Data Analysis\",\"Data Visualization\",\"Machine Learning\"],\"soft_skills\":[\"Leadership\",\"Communication\",\"Teamwork\"]},\"additional_info\":\"Strong points of the profile include a high GPA of 3.96, extensive leadership experience as a Resident Assistant and President of a student association, diverse work experience in financial analysis and research roles, proficiency in technical skills like data analysis, data visualization, and machine learning, and strong interpersonal skills such as leadership, communication, and teamwork.\"}}\n",
      "{\"message\":\"Resume processed correctly.\",\"resume_extracted_info\":{\"education\":[{\"degree\":\"Master of Interdisciplinary Design\",\"majors\":\"UX Design\",\"gpa\":null},{\"degree\":\"Professional Diploma in UX Design\",\"majors\":\"UX Design\",\"gpa\":null},{\"degree\":\"Bachelor Degree in Graphic Design\",\"majors\":\"Website & Media Design\",\"gpa\":3.6}],\"work_exp\":[{\"job_title\":\"UX Designer\",\"start_date\":\"April 2022\",\"end_data\":\"Present\",\"description\":\"Conduct surveys, host focus groups, analyze results, improve products, develop personas, create wireframes, prototypes, analyze user feedback, assist with content development.\"},{\"job_title\":\"Web Designer Intern\",\"start_date\":\"Jan 2022\",\"end_data\":\"April 2022\",\"description\":\"Design engaging landing pages, integrate CMS programs, optimize sites, conduct testing, ensure website function across devices, work with marketing teams.\"},{\"job_title\":\"UX/UI Designer Intern\",\"start_date\":\"Oct 2021\",\"end_data\":\"Jan 2022\",\"description\":\"UI/UX design for mobile apps and website, develop UI/UX strategy, collaborate with designers and developers.\"}],\"skills\":{\"technical_skills\":[\"Graphic Design\",\"Web Development\",\"UI/UX Design\",\"Photoshop\",\"HTML5\",\"Illustrator\",\"Figma\",\"Lightroom\",\"Axure\",\"Invision\",\"CSS\",\"NodeJs\",\"PHP\",\"JQuery\",\"SQL Database\",\"Java Full Stack\",\"AngularJS\",\"InVision\",\"Proto.Io\",\"Adobe XD\",\"Accessibility\",\"JavaScript\"],\"soft_skills\":[\"Project Management\",\"Team Collaboration\",\"Client Servicing\",\"Brand Strategy\",\"Creative Problem Solving\",\"Leadership\",\"Communication\"]},\"additional_info\":\"Results-oriented professional with extensive experience in UX Design, Graphic Design, Web Development, and Project Management. Proficient in a wide range of technical skills including Graphic Design tools, Web Development languages, and UI/UX design software. Skilled in project management, team collaboration, client servicing, and creative problem-solving. Excellent communicator with strong leadership capabilities and a track record of delivering successful design solutions.\"}}\n"
     ]
    },
    {
     "name": "stdout",
     "output_type": "stream",
     "text": [
      "{\"message\":\"Sending sample output\",\"resume_extracted_info\":{\"education\":[{\"degree\":\"Master of Science in Data Science\",\"majors\":\"Data Science\",\"gpa\":4.0},{\"degree\":\"Bachelor of Technology in Civil Engineering\",\"majors\":\"Civil Engineering\",\"gpa\":3.26}],\"work_exp\":[{\"job_title\":\"AI Research Associate Intern\",\"description\":\"Developed a financial question answering system using Large Language Models (LLM) on FinQA dataset, designed a negative sampling method based on clustering.\"},{\"job_title\":\"NLP Engineer\",\"description\":\"Developed algorithms to extract and relate medications and their attributes like dosage, route, frequency, duration, etc. from Electronic Health Records data with +90% F1 Score.\"},{\"job_title\":\"Data Scientist\",\"description\":\"Boosted the Named Entity Recognition model for biomedical entities by an average of 5% F1 Score per entity and improved the multi-label Relation Classification model by 4.2% Micro F1 Score.\"}],\"skills\":{\"technical_skills\":[\"Programming\",\"Data Engineering\",\"Natural Language Processing\",\"Machine Learning\",\"Deep Learning\",\"Statistical Analysis\"],\"soft_skills\":[\"Problem Solving\",\"Communication\",\"Teamwork\",\"Critical Thinking\",\"Adaptability\",\"Leadership\"]},\"additional_info\":\"Strong expertise in Data Science with a focus on Natural Language Processing and Machine Learning. Proven track record of improving models' performance and developing innovative solutions. Skilled in various technical tools and languages such as Python, R, SQL, PyTorch, TensorFlow, and more. Exceptional communication and problem-solving abilities.\"}}\n",
      "{\"message\":\"Resume processed correctly.\",\"resume_extracted_info\":{\"education\":[{\"degree\":\"Master of Science\",\"majors\":\"User Experience\",\"gpa\":null},{\"degree\":\"Bachelor of Engineering\",\"majors\":\"Electronics and Communications\",\"gpa\":8.67}],\"work_exp\":[{\"job_title\":\"Senior Software Engineer\",\"start_date\":\"Jan 2023\",\"end_data\":\"Mar 2023\",\"description\":\"Led the development of Advanced driver-assistance systems (ADAS) for Daimler and Volvo trucks.\"},{\"job_title\":\"Software Engineer\",\"start_date\":\"Jul 2020\",\"end_data\":\"Dec 2022\",\"description\":\"Coordinated with the system team in Germany to analyze and resolve critical customer defects.\"},{\"job_title\":\"Associate Software Engineer\",\"start_date\":\"Jul 2019\",\"end_data\":\"Jun 2020\",\"description\":\"Leveraged skills in Object-Oriented Programming (OOP) for developing COM codes for level-4 automated passenger cars.\"}],\"skills\":{\"technical_skills\":[\"User Experience Design\",\"Agile Methodologies\",\"Unit Testing\",\"Git\",\"SDLC\",\"Wireframing and Prototyping\"],\"soft_skills\":[\"Team Leadership\",\"Problem Solving\",\"Effective Communication\"]},\"additional_info\":\"Profile is strong in User Experience Design and Agile methodologies. Demonstrated leadership skills and ability to effectively communicate and solve problems within software development projects.\"}}\n",
      "{\"message\":\"Resume processed correctly.\",\"resume_extracted_info\":{\"education\":[{\"degree\":\"One Year Game Design Certificate\",\"majors\":\"Game Design\",\"gpa\":null},{\"degree\":\"UX/UI Design Career Track Certificate\",\"majors\":\"UX/UI Design\",\"gpa\":null},{\"degree\":\"B.A Animation and Digital Arts\",\"majors\":\"Animation and Digital Arts\",\"gpa\":null}],\"work_exp\":[{\"job_title\":\"UX/UI Designer\",\"start_date\":\"September 2023\",\"end_data\":\"Present\",\"description\":\"Effectively managed and delivered the Stella’s Oil Trading web system enhancement, maintaining strict adherence to timelines.\"},{\"job_title\":\"UX/UI Designer Intern\",\"start_date\":\"April 2023\",\"end_data\":\"June 2023\",\"description\":\"Led the Banco Popular Dominicano website dashboard enhancement, focusing on user-centric design.\"}],\"skills\":{\"technical_skills\":[\"UX/UI Design\",\"User Research\",\"Wireframing and Prototyping\",\"Interaction Design\",\"Information Architecture\",\"Visual Design\"],\"soft_skills\":[\"Team Leadership\",\"Critical Thinking\",\"Problem Solving\"]},\"additional_info\":\"Dynamic UX/UI Designer with expertise in web and mobile applications. Skilled in user research, visual design, and system enhancement. Proven track record of leading teams and improving user experiences. Proficient in Adobe Suite and Figma. Strong communicator and problem solver.\"}}\n",
      "{\"message\":\"Resume processed correctly.\",\"resume_extracted_info\":{\"education\":[{\"degree\":\"Google Digital Marketing & E-commerce Professional Certiﬁcate\",\"majors\":\"Digital Marketing & E-commerce\",\"gpa\":null},{\"degree\":\"UX/UI Design Certiﬁcate\",\"majors\":\"UX/UI Design\",\"gpa\":null},{\"degree\":\"Google UX Design Specialization\",\"majors\":\"UX Design\",\"gpa\":null},{\"degree\":\"Tourism and Hotel Management\",\"majors\":\"Tourism and Hotel Management\",\"gpa\":null}],\"work_exp\":[{\"job_title\":\"UI Tester\",\"start_date\":\"Sep 2023\",\"end_data\":\"Present\",\"description\":\"Created and managed bug reports in Jira, while conducting thorough quality assessments for software and web applications, with a focus on Latin American Spanish localization.\"},{\"job_title\":\"Product Design Intern\",\"start_date\":\"Mar 2023\",\"end_data\":\"June 2023\",\"description\":\"Conducted competitive analysis, created an end-to-end user flow as well as low and high-fidelity mockups in line with the company’s design system in Figma for Divercity’s Careers Page.\"},{\"job_title\":\"Food and Beverage intern\",\"start_date\":\"Aug 2019\",\"end_data\":\"July 2020\",\"description\":\"Internship related to food and beverage services.\"}],\"skills\":{\"technical_skills\":[\"Digital Marketing\",\"UX Design\",\"UI Design\",\"Usability Testing\",\"Information Architecture\"],\"soft_skills\":[\"Collaboration\",\"Creativity\",\"Problem-Solving\",\"Communication\",\"Time Management\"]},\"additional_info\":\"Strong background in digital marketing, UX/UI design, and proficient in tools like Figma, Sketch, Jira. Extensive experience in conducting user research, creating user flows, wireframing, and prototyping. Excellent communication and collaboration skills demonstrated through cross-functional team projects.\"}}\n",
      "{\"message\":\"Resume processed correctly.\",\"resume_extracted_info\":{\"education\":[{\"degree\":\"Master of Science\",\"majors\":\"Information Studies (Human Computer Interaction)\",\"gpa\":null},{\"degree\":\"Bachelor of Engineering\",\"majors\":\"Computer Science and Engineering\",\"gpa\":null}],\"work_exp\":[{\"job_title\":\"User Experience Designer\",\"start_date\":\"September 2023\",\"end_data\":\"Present\",\"description\":\"Implemented human-centered design solutions to increase user engagement on the website. Spearheaded UX improvements resulting in a reduction in website management issues.\"},{\"job_title\":\"UX Design and Research Intern\",\"start_date\":\"January 2023\",\"end_data\":\"April 2023\",\"description\":\"Developed a design system focused on user needs to increase user satisfaction score. Conducted usability tests to reduce bounce rates and enhance overall user experience.\"},{\"job_title\":\"Website Designer and Research Assistant\",\"start_date\":\"January 2022\",\"end_data\":\"January 2023\",\"description\":\"Led data collection for a project on Remote Office work. Redesigned key features of a website video conferencing add-on based on user feedback.\"}],\"skills\":{\"technical_skills\":[\"Product Design\",\"Web Design\",\"Information Architecture\",\"Wireframing\",\"Prototyping\",\"HTML\",\"CSS\",\"JavaScript\"],\"soft_skills\":[\"Data Analysis\",\"Interviews & Surveys\",\"User Personas\",\"A/B Testing\",\"Quantitative Research\"]},\"additional_info\":\"Strong in UX design principles and research methodologies. Proficient in a wide range of design and prototyping tools. Skilled in front-end development technologies like HTML, CSS, and JavaScript. Experienced in conducting user research and analysis.\"}}\n",
      "{\"message\":\"Resume processed correctly.\",\"resume_extracted_info\":{\"education\":[{\"degree\":\"MS in User Experience & Interaction Design\",\"majors\":\"User Experience & Interaction Design\",\"gpa\":null},{\"degree\":\"Bachelor of Design\",\"majors\":\"Design\",\"gpa\":null}],\"work_exp\":[{\"job_title\":\"UX/UI Designer\",\"start_date\":\"July 2023\",\"end_data\":\"Current\",\"description\":\"Conducted comprehensive website audits and stakeholder interviews to redesign the website, created wireframes in Figma, and implemented new website sections for user engagement.\"},{\"job_title\":\"Information Architect & UX Designer\",\"start_date\":\"Jan 2022\",\"end_data\":\"May 2022\",\"description\":\"Conducted UX research, usability testing, content audit, SEO enhancements, and proposed product extension solution for student education.\"},{\"job_title\":\"Student Ambassador\",\"start_date\":\"March 2022\",\"end_data\":\"April 2023\",\"description\":\"Conducted surveys, interviews with students, and designed visuals for social media to increase student engagement.\"},{\"job_title\":\"Design Manager and UX/UI Designer\",\"start_date\":\"July 2017\",\"end_data\":\"May 2021\",\"description\":\"Worked closely with project teams, researched PLM workflow patterns, redesigned brand website, and coordinated product design.\"},{\"job_title\":\"Graphic/ Textile Designer\",\"start_date\":\"May 2015\",\"end_data\":\"June 2017\",\"description\":\"Conducted trend research, created prints, visuals using Adobe tools, and coordinated with merchandisers for production follow-ups.\"},{\"job_title\":\"Graphic/ Website Designer\",\"start_date\":\"July 2014\",\"end_data\":\"April 2015\",\"description\":\"Designed visuals, logos, worked on site information architecture and user flows for website redesign.\"}],\"skills\":{\"technical_skills\":[\"UX Research & Strategy\",\"User Interface Design\",\"Competitive Analysis\",\"Agile Developments\",\"Surveys\",\"Usability Testing\",\"Coordinating Product Design\"],\"soft_skills\":[\"User Engagement\",\"Interpersonal Communication\",\"Team Collaboration\",\"Leadership\",\"Creativity\",\"Problem Solving\"]},\"additional_info\":\"Results-driven User Experience Designer with expertise in creating user-centered designs, crafting engaging interfaces, and aligning design with strategic business goals. Proficient in Figma, Adobe Suite, UX Research, User Interface Design, and Agile Developments.\"}}\n"
     ]
    }
   ],
   "source": [
    "import os\n",
    "import requests\n",
    "\n",
    "url = \"https://resumeparse-wx2fewkasq-uc.a.run.app/process-resume\"\n",
    "folder_path = \"/Users/anubhavgupta/Documents/resumes\"  # Replace this with the path to your folder containing resumes\n",
    "m = []\n",
    "for filename in os.listdir(folder_path):\n",
    "    if filename.endswith(\".pdf\"):  # Assuming all resumes are in PDF format\n",
    "        file_path = os.path.join(folder_path, filename)\n",
    "        with open(file_path, \"rb\") as f:\n",
    "            file_data = f.read()\n",
    "        files = {\"file\": (filename, file_data, \"application/pdf\")}\n",
    "        response = requests.post(url, files=files)\n",
    "        m.append(response.text)\n",
    "        print(response.text)\n"
   ]
  },
  {
   "cell_type": "code",
   "execution_count": 2,
   "id": "da270e40",
   "metadata": {},
   "outputs": [
    {
     "name": "stdout",
     "output_type": "stream",
     "text": [
      "15\n"
     ]
    }
   ],
   "source": [
    "print(len(m))"
   ]
  },
  {
   "cell_type": "code",
   "execution_count": 3,
   "id": "0b9df3b0",
   "metadata": {},
   "outputs": [],
   "source": [
    "import json\n",
    "l = []\n",
    "for i in range(len(m)):\n",
    "    \n",
    "    response_data = json.loads(m[i])\n",
    "\n",
    "    resume_extracted_info = response_data.get('resume_extracted_info', None)\n",
    "    l.append(resume_extracted_info)\n",
    "\n",
    "#print(resume_extracted_info)\n"
   ]
  },
  {
   "cell_type": "code",
   "execution_count": 4,
   "id": "34bfb395",
   "metadata": {},
   "outputs": [
    {
     "name": "stdout",
     "output_type": "stream",
     "text": [
      "Time between start date and end date for each job: 0\n",
      "- Job Title: UX/UI Designer Intern, Time Difference: 0.39 years\n",
      "- Job Title: Designer, Time Difference: 1.25 years\n",
      "- Job Title: Freelance Designer & Illustrator, Time Difference: 5.64 years\n",
      "Time between start date and end date for each job: 1\n",
      "- Job Title: Product Designer, Time Difference: 1.31 years\n",
      "- Job Title: UX Designer, Time Difference: 0.33 years\n",
      "- Job Title: UX Designer, Time Difference: 0.25 years\n",
      "- Job Title: Operations Supervisor, Time Difference: 0.83 years\n",
      "- Job Title: Rule of Law Intern, Time Difference: 0.33 years\n",
      "- Job Title: Writing Consultant, Time Difference: 3.33 years\n",
      "Time between start date and end date for each job: 2\n"
     ]
    },
    {
     "ename": "KeyError",
     "evalue": "'start_date'",
     "output_type": "error",
     "traceback": [
      "\u001b[0;31m---------------------------------------------------------------------------\u001b[0m",
      "\u001b[0;31mKeyError\u001b[0m                                  Traceback (most recent call last)",
      "Cell \u001b[0;32mIn[4], line 51\u001b[0m\n\u001b[1;32m     49\u001b[0m \u001b[38;5;28mprint\u001b[39m(\u001b[38;5;124m\"\u001b[39m\u001b[38;5;124mTime between start date and end date for each job:\u001b[39m\u001b[38;5;124m\"\u001b[39m,i)\n\u001b[1;32m     50\u001b[0m \u001b[38;5;28;01mfor\u001b[39;00m exp \u001b[38;5;129;01min\u001b[39;00m work_experience:       \n\u001b[0;32m---> 51\u001b[0m     years \u001b[38;5;241m=\u001b[39m calculate_years(exp[\u001b[38;5;124m'\u001b[39m\u001b[38;5;124mstart_date\u001b[39m\u001b[38;5;124m'\u001b[39m], exp[\u001b[38;5;124m'\u001b[39m\u001b[38;5;124mend_data\u001b[39m\u001b[38;5;124m'\u001b[39m])\n\u001b[1;32m     52\u001b[0m     \u001b[38;5;28;01mif\u001b[39;00m years \u001b[38;5;129;01mis\u001b[39;00m \u001b[38;5;129;01mnot\u001b[39;00m \u001b[38;5;28;01mNone\u001b[39;00m:\n\u001b[1;32m     53\u001b[0m         \u001b[38;5;28mprint\u001b[39m(\u001b[38;5;124mf\u001b[39m\u001b[38;5;124m\"\u001b[39m\u001b[38;5;124m- Job Title: \u001b[39m\u001b[38;5;132;01m{\u001b[39;00mexp[\u001b[38;5;124m'\u001b[39m\u001b[38;5;124mjob_title\u001b[39m\u001b[38;5;124m'\u001b[39m]\u001b[38;5;132;01m}\u001b[39;00m\u001b[38;5;124m, Time Difference: \u001b[39m\u001b[38;5;132;01m{\u001b[39;00myears\u001b[38;5;132;01m:\u001b[39;00m\u001b[38;5;124m.2f\u001b[39m\u001b[38;5;132;01m}\u001b[39;00m\u001b[38;5;124m years\u001b[39m\u001b[38;5;124m\"\u001b[39m)\n",
      "\u001b[0;31mKeyError\u001b[0m: 'start_date'"
     ]
    }
   ],
   "source": [
    "import re\n",
    "from datetime import datetime\n",
    "\n",
    "# Function to calculate the time difference in years\n",
    "def calculate_years(start_date, end_date):\n",
    "    if start_date is None or end_date is None:\n",
    "        return None\n",
    "    \n",
    "    # Handle cases where only the year is provided\n",
    "    if start_date.isnumeric():\n",
    "        start_date = f\"Jan {start_date}\"\n",
    "    if end_date.isnumeric():\n",
    "        end_date = f\"Jan {end_date}\"\n",
    "    \n",
    "    # Remove extra spaces and optional comma in the month name if present\n",
    "    start_date = re.sub(r'\\b(\\w+)\\s*,?\\s*(\\d+)', r'\\1 \\2', start_date)\n",
    "    end_date = re.sub(r'\\b(\\w+)\\s*,?\\s*(\\d+)', r'\\1 \\2', end_date)\n",
    "    \n",
    "    try:\n",
    "        start = datetime.strptime(start_date, \"%B %Y\")  # Try parsing full month name\n",
    "    except ValueError:\n",
    "        try:\n",
    "            start = datetime.strptime(start_date, \"%b %Y\")  # Try parsing abbreviated month name\n",
    "        except ValueError:\n",
    "            return None  # Return None if both attempts fail\n",
    "\n",
    "    current_date = datetime.now()\n",
    "    if end_date.lower() in ['present', 'current','currently']:\n",
    "        end = current_date\n",
    "    else:\n",
    "        try:\n",
    "            end = datetime.strptime(end_date, \"%B %Y\")  # Try parsing full month name\n",
    "        except ValueError:\n",
    "            try:\n",
    "                end = datetime.strptime(end_date, \"%b %Y\")  # Try parsing abbreviated month name\n",
    "            except ValueError:\n",
    "                return None  # Return None if both attempts fail\n",
    "\n",
    "    return (end - start).days / 365.25 if start and end else None\n",
    "\n",
    "# Example usage:\n",
    "for i in range(len(m)):\n",
    "    resume_info = json.loads(m[i])\n",
    "\n",
    "    # Extract work experience\n",
    "    work_experience = resume_info['resume_extracted_info']['work_exp']\n",
    "\n",
    "    # Calculate and print the time difference for each job\n",
    "    print(\"Time between start date and end date for each job:\",i)\n",
    "    for exp in work_experience:       \n",
    "        years = calculate_years(exp['start_date'], exp['end_data'])\n",
    "        if years is not None:\n",
    "            print(f\"- Job Title: {exp['job_title']}, Time Difference: {years:.2f} years\")\n"
   ]
  },
  {
   "cell_type": "code",
   "execution_count": null,
   "id": "deb9f85c",
   "metadata": {},
   "outputs": [],
   "source": [
    "k = []\n",
    "# Extract relevant work experience\n",
    "for j in range(len(l)):\n",
    "    work_experience = l[j].get('education', [])\n",
    "    k.append(work_experience)\n",
    "    "
   ]
  },
  {
   "cell_type": "code",
   "execution_count": null,
   "id": "01171627",
   "metadata": {},
   "outputs": [],
   "source": [
    "for i in range(len(k)):\n",
    "    print(k[i])\n",
    "    print(\".................\")"
   ]
  },
  {
   "cell_type": "code",
   "execution_count": null,
   "id": "e7d21614",
   "metadata": {},
   "outputs": [],
   "source": [
    "k = []\n",
    "n = []\n",
    "# Extract relevant work experience\n",
    "for j in range(len(l)):\n",
    "    work_experience = l[j].get('education', [])\n",
    "    degree = []\n",
    "    majors = []\n",
    "    # Print relevant work experience\n",
    "    for experience in work_experience:\n",
    "        #print(\"Job Title:\", experience['job_title'])\n",
    "        degree.append(experience['degree'])\n",
    "        #print(\"Description:\", experience['description'])\n",
    "        majors .append(experience['majors'])    \n",
    "    #print(majors)\n",
    "    k.append(majors)\n",
    "    print(degree)\n",
    "    print()\n",
    "    n.append(degree)"
   ]
  },
  {
   "cell_type": "code",
   "execution_count": null,
   "id": "41c18f3b",
   "metadata": {},
   "outputs": [],
   "source": [
    "print(n)"
   ]
  },
  {
   "cell_type": "code",
   "execution_count": null,
   "id": "5a4164d3",
   "metadata": {},
   "outputs": [],
   "source": [
    "import pandas as pd\n",
    "\n",
    "df  = pd.read_excel(\"Education, Training, and Experience Categories.xlsx\")"
   ]
  },
  {
   "cell_type": "code",
   "execution_count": null,
   "id": "d654e1f0",
   "metadata": {},
   "outputs": [],
   "source": [
    "education_df = df[:12]\n",
    "education_df"
   ]
  },
  {
   "cell_type": "code",
   "execution_count": null,
   "id": "b3b4eebe",
   "metadata": {},
   "outputs": [],
   "source": [
    "work_exp_df = df[12:23]\n",
    "work_exp_df"
   ]
  },
  {
   "cell_type": "code",
   "execution_count": null,
   "id": "32cf0204",
   "metadata": {},
   "outputs": [],
   "source": [
    "on_site_df = df[23:32]\n",
    "on_site_df"
   ]
  },
  {
   "cell_type": "code",
   "execution_count": null,
   "id": "d36515e4",
   "metadata": {},
   "outputs": [],
   "source": [
    "on_job_df = df[32:41]\n",
    "on_job_df"
   ]
  },
  {
   "cell_type": "code",
   "execution_count": null,
   "id": "c0996a26",
   "metadata": {},
   "outputs": [],
   "source": [
    "#try mapping rows with taking both scale id and category as in category there are multiple cells having same value for example 1 "
   ]
  },
  {
   "cell_type": "code",
   "execution_count": null,
   "id": "b652d0ba",
   "metadata": {},
   "outputs": [],
   "source": [
    "import re\n",
    "\n",
    "def find_highest_degree(degree_list):\n",
    "    highest_degree = None\n",
    "    for degree in degree_list:\n",
    "        if re.search(r'post\\s*doctoral', degree, re.IGNORECASE):\n",
    "            highest_degree = \"RL 12\"\n",
    "        elif re.search(r'doctoral', degree, re.IGNORECASE):\n",
    "            highest_degree = \"RL 11\"\n",
    "        elif re.search(r'post\\s*masters', degree, re.IGNORECASE):\n",
    "            highest_degree = \"RL 9\"\n",
    "        elif re.search(r'm\\.s\\.|master of science', degree, re.IGNORECASE):\n",
    "            highest_degree = \"RL 8\"\n",
    "        elif re.search(r'master of interdisciplinary design', degree, re.IGNORECASE):\n",
    "            highest_degree = \"RL 8\"\n",
    "        elif re.search(r'masters', degree, re.IGNORECASE):\n",
    "            highest_degree = \"RL 8\"\n",
    "        elif re.search(r'baccalaureate', degree, re.IGNORECASE):\n",
    "            highest_degree = \"RL 7\"\n",
    "        elif re.search(r'b\\.a\\.|bachelor of arts', degree, re.IGNORECASE):\n",
    "            highest_degree = \"RL 6\"\n",
    "        elif re.search(r'bachelor of science|b\\.s\\.', degree, re.IGNORECASE):\n",
    "            highest_degree = \"RL 6\"\n",
    "        elif re.search(r'bachelor', degree, re.IGNORECASE):\n",
    "            highest_degree = \"RL 6\"\n",
    "        elif re.search(r'certificate', degree, re.IGNORECASE):\n",
    "            highest_degree = \"RL 3\"\n",
    "        elif re.search(r'diploma', degree, re.IGNORECASE):\n",
    "            highest_degree = \"RL 2\"\n",
    "    return highest_degree\n",
    "\n",
    "# Example usage:\n",
    "\n",
    "\n",
    "highest_degrees = []\n",
    "for sublist in n:\n",
    "    highest_degree = None\n",
    "    for degree in sublist:\n",
    "        degree_type = find_highest_degree([degree])\n",
    "        if not highest_degree or (degree_type and highest_degree < degree_type):\n",
    "            highest_degree = degree_type\n",
    "    highest_degrees.append(highest_degree)\n",
    "\n",
    "print(highest_degrees)\n"
   ]
  },
  {
   "cell_type": "code",
   "execution_count": null,
   "id": "5ab0e130",
   "metadata": {},
   "outputs": [],
   "source": [
    "print(n)"
   ]
  },
  {
   "cell_type": "code",
   "execution_count": null,
   "id": "40bd8f78",
   "metadata": {},
   "outputs": [],
   "source": []
  }
 ],
 "metadata": {
  "kernelspec": {
   "display_name": "Python 3 (ipykernel)",
   "language": "python",
   "name": "python3"
  },
  "language_info": {
   "codemirror_mode": {
    "name": "ipython",
    "version": 3
   },
   "file_extension": ".py",
   "mimetype": "text/x-python",
   "name": "python",
   "nbconvert_exporter": "python",
   "pygments_lexer": "ipython3",
   "version": "3.11.5"
  }
 },
 "nbformat": 4,
 "nbformat_minor": 5
}
